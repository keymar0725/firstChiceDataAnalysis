{
 "cells": [
  {
   "cell_type": "code",
   "execution_count": 1,
   "id": "78bcfbce-7953-4a87-ab4b-03312dc2578a",
   "metadata": {
    "tags": []
   },
   "outputs": [],
   "source": [
    "#!/usr/bin/env python3\n",
    "import csv\n",
    "import sys\n",
    "import pandas as pd\n",
    "import os\n",
    "import os.path\n",
    "import datetime\n",
    "import glob\n",
    "\n",
    "out_dir = \"picked/\"\n",
    "os.makedirs(out_dir, exist_ok=True)\n",
    "\n",
    "import_file = 'C:/Users/0296/Desktop/firstChiceDataAnalysis/out/sample_03.csv'\n",
    "col_name = range(1,4,1)\n",
    "df_import = pd.read_csv(import_file, names = col_name, encoding=\"shift_jis\", delimiter=\",\", dtype=\"object\")\n",
    "df_import[1] = (pd.to_datetime(df_import[1])).dt.round(\"min\")\n",
    "df_import[2] = (pd.to_datetime(df_import[2])).dt.round(\"min\")"
   ]
  },
  {
   "cell_type": "code",
   "execution_count": 6,
   "id": "a29ec5bd-5480-450d-abb2-61920563b72e",
   "metadata": {
    "tags": []
   },
   "outputs": [],
   "source": [
    "# import csv files\n",
    "log6_dir = \"//172.25.0.195/fte_data (東日本)/【東京支社】/1.計画物件/3一般企業/ファーストチョイス㈱/ハンバーグフリーザー/HANEW本社監査指摘事項/運転データ/Package1/冷凍機_log1\"\n",
    "output_dir = 'C:/Users/0296/Desktop/firstChiceDataAnalysis/'\n",
    "# outpu_tdir = \"//172.25.0.195/fte_data (東日本)/【東京支社】/1.計画物件/3一般企業/ファーストチョイス㈱/ハンバーグフリーザー/HANEW本社監査指摘事項/運転データ/Package1/冷凍機_log1/\"\n",
    "os.chdir(log6_dir)\n",
    "log6_list = glob.glob(\"LOG00006_*.CSV\")"
   ]
  },
  {
   "cell_type": "code",
   "execution_count": null,
   "id": "190d4fc8-b3a2-4713-8f70-b040d5c73c11",
   "metadata": {
    "tags": []
   },
   "outputs": [
    {
     "name": "stdout",
     "output_type": "stream",
     "text": [
      "n=0:LOG00006_0001.CSV END\n",
      "n=1:LOG00006_0002.CSV END\n",
      "n=2:LOG00006_0003.CSV END\n",
      "n=3:LOG00006_0004.CSV END\n",
      "n=4:LOG00006_0005.CSV END\n",
      "n=5:LOG00006_0006.CSV END\n",
      "n=6:LOG00006_0007.CSV END\n",
      "n=7:LOG00006_0008.CSV END\n",
      "n=8:LOG00006_0009.CSV END\n",
      "n=9:LOG00006_0010.CSV END\n",
      "picked_log06_1.0.csv SAVED\n",
      "n=10:LOG00006_0011.CSV END\n",
      "n=11:LOG00006_0012.CSV END\n",
      "n=12:LOG00006_0013.CSV END\n",
      "n=13:LOG00006_0014.CSV END\n",
      "n=14:LOG00006_0015.CSV END\n",
      "n=15:LOG00006_0016.CSV END\n",
      "n=16:LOG00006_0017.CSV END\n",
      "n=17:LOG00006_0018.CSV END\n",
      "n=18:LOG00006_0019.CSV END\n",
      "n=19:LOG00006_0020.CSV END\n",
      "picked_log06_2.0.csv SAVED\n",
      "n=20:LOG00006_0021.CSV END\n",
      "n=21:LOG00006_0022.CSV END\n",
      "n=22:LOG00006_0023.CSV END\n",
      "n=23:LOG00006_0024.CSV END\n",
      "n=24:LOG00006_0025.CSV END\n",
      "n=25:LOG00006_0026.CSV END\n",
      "n=26:LOG00006_0027.CSV END\n",
      "n=27:LOG00006_0028.CSV END\n",
      "n=28:LOG00006_0029.CSV END\n",
      "n=29:LOG00006_0030.CSV END\n",
      "picked_log06_3.0.csv SAVED\n",
      "n=30:LOG00006_0031.CSV END\n",
      "n=31:LOG00006_0032.CSV END\n",
      "n=32:LOG00006_0033.CSV END\n",
      "n=33:LOG00006_0034.CSV END\n",
      "n=34:LOG00006_0035.CSV END\n",
      "n=35:LOG00006_0036.CSV END\n",
      "n=36:LOG00006_0037.CSV END\n",
      "n=37:LOG00006_0038.CSV END\n",
      "n=38:LOG00006_0039.CSV END\n",
      "n=39:LOG00006_0040.CSV END\n",
      "picked_log06_4.0.csv SAVED\n",
      "n=40:LOG00006_0041.CSV END\n",
      "n=41:LOG00006_0042.CSV END\n",
      "n=42:LOG00006_0043.CSV END\n",
      "n=43:LOG00006_0044.CSV END\n",
      "n=44:LOG00006_0045.CSV END\n",
      "n=45:LOG00006_0046.CSV END\n",
      "n=46:LOG00006_0047.CSV END\n",
      "n=47:LOG00006_0048.CSV END\n",
      "n=48:LOG00006_0049.CSV END\n",
      "n=49:LOG00006_0050.CSV END\n",
      "picked_log06_5.0.csv SAVED\n",
      "n=50:LOG00006_0051.CSV END\n",
      "n=51:LOG00006_0052.CSV END\n",
      "n=52:LOG00006_0053.CSV END\n",
      "n=53:LOG00006_0054.CSV END\n",
      "n=54:LOG00006_0055.CSV END\n",
      "n=55:LOG00006_0056.CSV END\n",
      "n=56:LOG00006_0057.CSV END\n",
      "n=57:LOG00006_0058.CSV END\n",
      "n=58:LOG00006_0059.CSV END\n",
      "n=59:LOG00006_0060.CSV END\n",
      "picked_log06_6.0.csv SAVED\n",
      "n=60:LOG00006_0061.CSV END\n",
      "n=61:LOG00006_0062.CSV END\n",
      "n=62:LOG00006_0063.CSV END\n",
      "n=63:LOG00006_0064.CSV END\n",
      "n=64:LOG00006_0065.CSV END\n",
      "n=65:LOG00006_0066.CSV END\n",
      "n=66:LOG00006_0067.CSV END\n",
      "n=67:LOG00006_0068.CSV END\n",
      "n=68:LOG00006_0069.CSV END\n",
      "n=69:LOG00006_0070.CSV END\n",
      "picked_log06_7.0.csv SAVED\n"
     ]
    }
   ],
   "source": [
    "data = {1:[], 11:[], 13:[], 20:[], 24:[], 28:[]}\n",
    "df_out = pd.DataFrame(data)\n",
    "df_out[1] = (pd.to_datetime(df_out[1])).dt.round(\"min\")\n",
    "col_name = range(1,32,1)\n",
    "n = 0\n",
    "for log6 in log6_list:\n",
    "    os.chdir(log6_dir)\n",
    "    df = pd.read_csv(log6, names = col_name, encoding=\"shift_jis\", delimiter=\",\", dtype=\"object\")\n",
    "    _df = df[13:]\n",
    "    list1 = [2,3,4,5,6,7,8,9,10,12,14,15,16,17,18,19,21,22,23,25,26,27,29,30,31]\n",
    "    _df = _df.drop(list1, axis=1)\n",
    "    _df[1] = (pd.to_datetime(_df[1])).dt.round(\"min\")\n",
    "\n",
    "    for i in range(0,len(df_import)):\n",
    "        # print('稼働日={0}'.format(df_import.iloc[i,0].date()))\n",
    "        drop_list = []\n",
    "        for j in range(0,len(_df)):\n",
    "            if _df.iloc[j,0].date() == df_import.iloc[i,0].date():\n",
    "                t1 = int((_df.iloc[j,0] - df_import.iloc[i,0]).seconds)\n",
    "                t2 = int((df_import.iloc[i,1] - _df.iloc[j,0]).seconds)\n",
    "                t3 = int((df_import.iloc[i,1] - df_import.iloc[i,0]).seconds)\n",
    "                if t1+t2==t3:\n",
    "                    continue\n",
    "                else:\n",
    "                    drop_list.append(j)\n",
    "            else:\n",
    "                drop_list.append(j)\n",
    "        df2 = _df.drop(_df.index[drop_list])\n",
    "        df_out = pd.concat([df_out,df2], ignore_index=False)\n",
    "    print('n={0}:{1} END'.format(n,log6))\n",
    "    n = n + 1\n",
    "    if n > len(log6_list):\n",
    "        os.chdir(output_dir)\n",
    "        df_out = df_out.rename(columns={1: 'Time',11: 'MT吐出圧力',13: 'LT吐出圧力',20: 'MT吐出温度',24: '温水取出温度',28:'温水流量'})\n",
    "        df_out.to_csv(out_dir+\"picked_log06_{0}.csv\".format(n/10), encoding=\"shift_jis\", index=False)\n",
    "        print('picked_log06_{0}.csv SAVED'.format(n/10))\n",
    "        print('ALL END')\n",
    "        break\n",
    "    elif n!=0 and n%10==0:\n",
    "        os.chdir(output_dir)\n",
    "        df_out = df_out.rename(columns={1: 'Time',11: 'MT吐出圧力',13: 'LT吐出圧力',20: 'MT吐出温度',24: '温水取出温度',28:'温水流量'})\n",
    "        df_out.to_csv(out_dir+\"picked_log06_{0}.csv\".format(n/10), encoding=\"shift_jis\", index=False)\n",
    "        df_out = pd.DataFrame(data)\n",
    "        df_out[1] = (pd.to_datetime(df_out[1])).dt.round(\"min\")\n",
    "        print('picked_log06_{0}.csv SAVED'.format(n/10))"
   ]
  },
  {
   "cell_type": "code",
   "execution_count": 165,
   "id": "6ffd3e2e-f111-4494-a888-aec636bf6763",
   "metadata": {},
   "outputs": [
    {
     "data": {
      "text/plain": [
       "633"
      ]
     },
     "execution_count": 165,
     "metadata": {},
     "output_type": "execute_result"
    }
   ],
   "source": [
    "\n",
    "\n",
    "\n",
    "len(log6_list)"
   ]
  },
  {
   "cell_type": "code",
   "execution_count": 170,
   "id": "40f65dc2-ea3d-4e90-a0a1-ef87f592e81b",
   "metadata": {},
   "outputs": [
    {
     "data": {
      "text/plain": [
       "9"
      ]
     },
     "execution_count": 170,
     "metadata": {},
     "output_type": "execute_result"
    }
   ],
   "source": [
    "log6_list.index('LOG00006_0010.CSV')"
   ]
  },
  {
   "cell_type": "code",
   "execution_count": null,
   "id": "a7766465-9f60-40ad-a5ea-1a3eaf30ee82",
   "metadata": {},
   "outputs": [],
   "source": []
  }
 ],
 "metadata": {
  "kernelspec": {
   "display_name": "Python 3 (ipykernel)",
   "language": "python",
   "name": "python3"
  },
  "language_info": {
   "codemirror_mode": {
    "name": "ipython",
    "version": 3
   },
   "file_extension": ".py",
   "mimetype": "text/x-python",
   "name": "python",
   "nbconvert_exporter": "python",
   "pygments_lexer": "ipython3",
   "version": "3.11.5"
  }
 },
 "nbformat": 4,
 "nbformat_minor": 5
}
