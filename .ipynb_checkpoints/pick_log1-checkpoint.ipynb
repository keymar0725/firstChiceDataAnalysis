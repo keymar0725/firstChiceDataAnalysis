{
 "cells": [
  {
   "cell_type": "code",
   "execution_count": 1,
   "id": "78bcfbce-7953-4a87-ab4b-03312dc2578a",
   "metadata": {
    "tags": []
   },
   "outputs": [],
   "source": [
    "#!/usr/bin/env python3\n",
    "import csv\n",
    "import sys\n",
    "import pandas as pd\n",
    "import os\n",
    "import os.path\n",
    "import datetime\n",
    "import glob\n",
    "\n",
    "out_dir = \"log1/\"\n",
    "os.makedirs(out_dir, exist_ok=True)\n",
    "\n",
    "# import csv files\n",
    "import_file = 'C:/Users/0296/Desktop/firstChiceDataAnalysis/out/PT_2023-01-11_2023-12-01.csv'\n",
    "df_import = pd.read_csv(import_file, names = range(1,4,1), encoding=\"shift_jis\", delimiter=\",\", dtype=\"object\")\n",
    "df_import[1] = (pd.to_datetime(df_import[1])).dt.round(\"min\")\n",
    "df_import[2] = (pd.to_datetime(df_import[2])).dt.round(\"min\")\n",
    "\n",
    "log1_dir = \"//172.25.0.195/fte_data (東日本)/【東京支社】/1.計画物件/3一般企業/ファーストチョイス㈱/ハンバーグフリーザー/HANEW本社監査指摘事項/運転データ/Package1/各所温度_log\"\n",
    "output_dir = 'C:/Users/0296/Desktop/firstChiceDataAnalysis/'\n",
    "os.chdir(log1_dir)\n",
    "log1_list = glob.glob(\"LOG00001_*.CSV\")"
   ]
  },
  {
   "cell_type": "code",
   "execution_count": null,
   "id": "190d4fc8-b3a2-4713-8f70-b040d5c73c11",
   "metadata": {
    "tags": []
   },
   "outputs": [
    {
     "name": "stdout",
     "output_type": "stream",
     "text": [
      "n=0:LOG00001_0001.CSV END\n",
      "n=1:LOG00001_0002.CSV END\n",
      "n=2:LOG00001_0003.CSV END\n",
      "n=3:LOG00001_0004.CSV END\n",
      "n=4:LOG00001_0005.CSV END\n",
      "n=5:LOG00001_0006.CSV END\n",
      "n=6:LOG00001_0007.CSV END\n",
      "n=7:LOG00001_0008.CSV END\n",
      "n=8:LOG00001_0009.CSV END\n",
      "n=9:LOG00001_0010.CSV END\n",
      "picked_log06_01.csv SAVED\n"
     ]
    }
   ],
   "source": [
    "data = {1:[], 18:[], 19:[]}\n",
    "df_out = pd.DataFrame(data)\n",
    "df_out[1] = (pd.to_datetime(df_out[1])).dt.round(\"min\")\n",
    "n = 0\n",
    "\n",
    "for log in log1_list:\n",
    "    os.chdir(log1_dir)\n",
    "    df = pd.read_csv(log, names = range(1,20,1), encoding=\"shift_jis\", delimiter=\",\", dtype=\"object\")\n",
    "    _df = df[13:]\n",
    "    _df = _df.drop(range(2,18,1), axis=1)\n",
    "    _df[1] = (pd.to_datetime(_df[1])).dt.round(\"min\")\n",
    "\n",
    "    for i in range(0,len(df_import)):\n",
    "        t_i = df_import.iloc[i,0]\n",
    "        t_o = df_import.iloc[i,1]\n",
    "        for j in range(0,len(_df)):\n",
    "            t = _df.iloc[j,0]\n",
    "            if t.date() == t_i.date():\n",
    "                t1 = int((t - t_i).seconds)\n",
    "                t2 = int((t_o - t).seconds)\n",
    "                t3 = int((t_o - t_i).seconds)\n",
    "                if t1+t2==t3:\n",
    "                    df_out = pd.concat([df_out,_df[j:j+1]], ignore_index=False)\n",
    "                elif t1==t2+t3:\n",
    "                    break\n",
    "            elif (t - t_i).days > 0:\n",
    "                break\n",
    "    \n",
    "    print('n={0}:{1} END'.format(n,log))\n",
    "    n = n + 1\n",
    "    col_names = {1: 'Time',18: '冷却水送り温度',19: '排熱回収補給水温度'}\n",
    "    if n > len(log1_list):\n",
    "        os.chdir(output_dir)\n",
    "        df_out = df_out.rename(columns=col_names)\n",
    "        df_out.to_csv(out_dir+\"picked_log01_{:02}.csv\".format(int(n/10)), encoding=\"shift_jis\", index=False)\n",
    "        print('picked_log01_{:02}.csv SAVED'.format(int(n/10)))\n",
    "        print('ALL END')\n",
    "        break\n",
    "    elif n!=0 and n%10==0:\n",
    "        os.chdir(output_dir)\n",
    "        df_out = df_out.rename(columns=col_names)\n",
    "        df_out.to_csv(out_dir+\"picked_log06_{:02}.csv\".format(int(n/10)), encoding=\"shift_jis\", index=False)\n",
    "        print('picked_log06_{:02}.csv SAVED'.format(int(n/10)))\n",
    "        df_out = pd.DataFrame(data)\n",
    "        df_out[1] = (pd.to_datetime(df_out[1])).dt.round(\"min\")"
   ]
  },
  {
   "cell_type": "code",
   "execution_count": null,
   "id": "a7766465-9f60-40ad-a5ea-1a3eaf30ee82",
   "metadata": {},
   "outputs": [],
   "source": []
  }
 ],
 "metadata": {
  "kernelspec": {
   "display_name": "Python 3 (ipykernel)",
   "language": "python",
   "name": "python3"
  },
  "language_info": {
   "codemirror_mode": {
    "name": "ipython",
    "version": 3
   },
   "file_extension": ".py",
   "mimetype": "text/x-python",
   "name": "python",
   "nbconvert_exporter": "python",
   "pygments_lexer": "ipython3",
   "version": "3.11.5"
  }
 },
 "nbformat": 4,
 "nbformat_minor": 5
}
